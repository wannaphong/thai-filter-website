{
 "cells": [
  {
   "cell_type": "code",
   "execution_count": 1,
   "id": "3877e292-43cd-4f09-b0dc-527b7a4c56a6",
   "metadata": {},
   "outputs": [
    {
     "data": {
      "application/vnd.jupyter.widget-view+json": {
       "model_id": "792d96f64e584510aa8f639e840c4f7f",
       "version_major": 2,
       "version_minor": 0
      },
      "text/plain": [
       "  0%|          | 0/7 [00:00<?, ?it/s]"
      ]
     },
     "metadata": {},
     "output_type": "display_data"
    }
   ],
   "source": [
    "from block import web_list,check_block"
   ]
  },
  {
   "cell_type": "code",
   "execution_count": 2,
   "id": "61891ef4-5b60-4e87-854c-c18c5757619b",
   "metadata": {},
   "outputs": [
    {
     "name": "stdout",
     "output_type": "stream",
     "text": [
      "CPU times: user 70 µs, sys: 10 µs, total: 80 µs\n",
      "Wall time: 84.2 µs\n"
     ]
    },
    {
     "data": {
      "text/plain": [
       "True"
      ]
     },
     "execution_count": 2,
     "metadata": {},
     "output_type": "execute_result"
    }
   ],
   "source": [
    "%%time\n",
    "check_block(\"https://pornhub.com\")"
   ]
  },
  {
   "cell_type": "code",
   "execution_count": 3,
   "id": "3d48f1cc-4c92-4fd0-8bd4-363ccad39cd0",
   "metadata": {},
   "outputs": [
    {
     "name": "stdout",
     "output_type": "stream",
     "text": [
      "CPU times: user 33 µs, sys: 5 µs, total: 38 µs\n",
      "Wall time: 40.5 µs\n"
     ]
    },
    {
     "data": {
      "text/plain": [
       "False"
      ]
     },
     "execution_count": 3,
     "metadata": {},
     "output_type": "execute_result"
    }
   ],
   "source": [
    "%%time\n",
    "check_block(\"https://blognone.com\")"
   ]
  },
  {
   "cell_type": "code",
   "execution_count": 4,
   "id": "684ded03-c725-4ed4-9261-25edadb30be2",
   "metadata": {},
   "outputs": [
    {
     "name": "stdout",
     "output_type": "stream",
     "text": [
      "CPU times: user 24 µs, sys: 3 µs, total: 27 µs\n",
      "Wall time: 31.2 µs\n"
     ]
    },
    {
     "data": {
      "text/plain": [
       "True"
      ]
     },
     "execution_count": 4,
     "metadata": {},
     "output_type": "execute_result"
    }
   ],
   "source": [
    "%%time\n",
    "check_block(\"https://www.hawaiianorchidsonline.com/\")"
   ]
  },
  {
   "cell_type": "code",
   "execution_count": 5,
   "id": "2bdd8803-08bc-4616-99b8-ecf624230fe0",
   "metadata": {},
   "outputs": [
    {
     "name": "stdout",
     "output_type": "stream",
     "text": [
      "CPU times: user 25 µs, sys: 4 µs, total: 29 µs\n",
      "Wall time: 31.7 µs\n"
     ]
    },
    {
     "data": {
      "text/plain": [
       "True"
      ]
     },
     "execution_count": 5,
     "metadata": {},
     "output_type": "execute_result"
    }
   ],
   "source": [
    "%%time\n",
    "check_block(\"https://bonvivanteditions.com/\")"
   ]
  },
  {
   "cell_type": "code",
   "execution_count": 6,
   "id": "3e396233-c665-4875-9a80-7fe0e481eb92",
   "metadata": {},
   "outputs": [
    {
     "name": "stdout",
     "output_type": "stream",
     "text": [
      "CPU times: user 25 µs, sys: 4 µs, total: 29 µs\n",
      "Wall time: 32.2 µs\n"
     ]
    },
    {
     "data": {
      "text/plain": [
       "True"
      ]
     },
     "execution_count": 6,
     "metadata": {},
     "output_type": "execute_result"
    }
   ],
   "source": [
    "%%time\n",
    "check_block(\"https://www.ibc-th.com/\")"
   ]
  },
  {
   "cell_type": "code",
   "execution_count": 7,
   "id": "7627a5a6-b4c8-401b-b3b6-79601b593895",
   "metadata": {},
   "outputs": [
    {
     "name": "stdout",
     "output_type": "stream",
     "text": [
      "CPU times: user 23 µs, sys: 4 µs, total: 27 µs\n",
      "Wall time: 30 µs\n"
     ]
    },
    {
     "data": {
      "text/plain": [
       "True"
      ]
     },
     "execution_count": 7,
     "metadata": {},
     "output_type": "execute_result"
    }
   ],
   "source": [
    "%%time\n",
    "check_block(\"https://sbobetdepositpulsa.com\")"
   ]
  },
  {
   "cell_type": "code",
   "execution_count": 8,
   "id": "b2ef9cf1-5231-44ed-a4e1-c317981c7dc5",
   "metadata": {},
   "outputs": [
    {
     "name": "stdout",
     "output_type": "stream",
     "text": [
      "CPU times: user 40 µs, sys: 5 µs, total: 45 µs\n",
      "Wall time: 49.4 µs\n"
     ]
    },
    {
     "data": {
      "text/plain": [
       "True"
      ]
     },
     "execution_count": 8,
     "metadata": {},
     "output_type": "execute_result"
    }
   ],
   "source": [
    "%%time\n",
    "check_block(\"https://a.xyz\")"
   ]
  },
  {
   "cell_type": "code",
   "execution_count": 9,
   "id": "843d8ad7-bdf0-4b72-b549-7162fd9248a5",
   "metadata": {},
   "outputs": [
    {
     "name": "stdout",
     "output_type": "stream",
     "text": [
      "CPU times: user 66 µs, sys: 9 µs, total: 75 µs\n",
      "Wall time: 78.9 µs\n"
     ]
    },
    {
     "data": {
      "text/plain": [
       "True"
      ]
     },
     "execution_count": 9,
     "metadata": {},
     "output_type": "execute_result"
    }
   ],
   "source": [
    "%%time\n",
    "check_block(\"https://เย็ดแตก.orf\")"
   ]
  },
  {
   "cell_type": "code",
   "execution_count": 10,
   "id": "f19e4c38-9990-43cb-8ad2-86d7fcc89bd7",
   "metadata": {},
   "outputs": [
    {
     "name": "stdout",
     "output_type": "stream",
     "text": [
      "CPU times: user 32 µs, sys: 5 µs, total: 37 µs\n",
      "Wall time: 39.8 µs\n"
     ]
    },
    {
     "data": {
      "text/plain": [
       "False"
      ]
     },
     "execution_count": 10,
     "metadata": {},
     "output_type": "execute_result"
    }
   ],
   "source": [
    "%%time\n",
    "check_block(\"https://คนดี.com\")"
   ]
  },
  {
   "cell_type": "code",
   "execution_count": 11,
   "id": "a961d305-b178-41d8-b720-3b8ff5f59194",
   "metadata": {},
   "outputs": [
    {
     "name": "stdout",
     "output_type": "stream",
     "text": [
      "CPU times: user 18 µs, sys: 3 µs, total: 21 µs\n",
      "Wall time: 24.3 µs\n"
     ]
    },
    {
     "data": {
      "text/plain": [
       "False"
      ]
     },
     "execution_count": 11,
     "metadata": {},
     "output_type": "execute_result"
    }
   ],
   "source": [
    "%%time\n",
    "check_block(\"https://คนดี.com\")"
   ]
  },
  {
   "cell_type": "code",
   "execution_count": 12,
   "id": "8647acef-a6c7-488e-bcf2-870f1013d0a1",
   "metadata": {},
   "outputs": [
    {
     "name": "stdout",
     "output_type": "stream",
     "text": [
      "CPU times: user 24 µs, sys: 3 µs, total: 27 µs\n",
      "Wall time: 30.5 µs\n"
     ]
    },
    {
     "data": {
      "text/plain": [
       "True"
      ]
     },
     "execution_count": 12,
     "metadata": {},
     "output_type": "execute_result"
    }
   ],
   "source": [
    "%%time\n",
    "check_block(\"https://www.pysspring.com\")"
   ]
  },
  {
   "cell_type": "code",
   "execution_count": 13,
   "id": "187995d0-0f79-4f8e-91d7-99597685b2c6",
   "metadata": {},
   "outputs": [
    {
     "name": "stdout",
     "output_type": "stream",
     "text": [
      "CPU times: user 27 µs, sys: 4 µs, total: 31 µs\n",
      "Wall time: 33.1 µs\n"
     ]
    },
    {
     "data": {
      "text/plain": [
       "True"
      ]
     },
     "execution_count": 13,
     "metadata": {},
     "output_type": "execute_result"
    }
   ],
   "source": [
    "%%time\n",
    "check_block(\"https://slot938.com\")"
   ]
  },
  {
   "cell_type": "code",
   "execution_count": 14,
   "id": "e480dafc-f75a-4512-82e7-e0de1c40cdc9",
   "metadata": {},
   "outputs": [
    {
     "name": "stdout",
     "output_type": "stream",
     "text": [
      "CPU times: user 24 µs, sys: 3 µs, total: 27 µs\n",
      "Wall time: 30 µs\n"
     ]
    },
    {
     "data": {
      "text/plain": [
       "True"
      ]
     },
     "execution_count": 14,
     "metadata": {},
     "output_type": "execute_result"
    }
   ],
   "source": [
    "%%time\n",
    "check_block(\"https://ufabtc.websnadno.cz\")"
   ]
  },
  {
   "cell_type": "code",
   "execution_count": 15,
   "id": "1c430525-222f-4044-ba72-97aceb9e5398",
   "metadata": {},
   "outputs": [
    {
     "name": "stdout",
     "output_type": "stream",
     "text": [
      "CPU times: user 22 µs, sys: 3 µs, total: 25 µs\n",
      "Wall time: 28.1 µs\n"
     ]
    },
    {
     "data": {
      "text/plain": [
       "True"
      ]
     },
     "execution_count": 15,
     "metadata": {},
     "output_type": "execute_result"
    }
   ],
   "source": [
    "%%time\n",
    "check_block(\"http://beautyseefirst.com/\")"
   ]
  },
  {
   "cell_type": "code",
   "execution_count": 16,
   "id": "0d200f51-4b80-4562-9158-9d3ab6d6b58c",
   "metadata": {},
   "outputs": [
    {
     "name": "stdout",
     "output_type": "stream",
     "text": [
      "CPU times: user 31 µs, sys: 4 µs, total: 35 µs\n",
      "Wall time: 38.9 µs\n"
     ]
    },
    {
     "data": {
      "text/plain": [
       "False"
      ]
     },
     "execution_count": 16,
     "metadata": {},
     "output_type": "execute_result"
    }
   ],
   "source": [
    "%%time\n",
    "check_block(\"https://www.placeyourclassifiedfree.com/\")"
   ]
  },
  {
   "cell_type": "code",
   "execution_count": 17,
   "id": "3f725351-423e-43a2-8415-6676c9d9901d",
   "metadata": {},
   "outputs": [
    {
     "name": "stdout",
     "output_type": "stream",
     "text": [
      "CPU times: user 27 µs, sys: 0 ns, total: 27 µs\n",
      "Wall time: 31 µs\n"
     ]
    },
    {
     "data": {
      "text/plain": [
       "True"
      ]
     },
     "execution_count": 17,
     "metadata": {},
     "output_type": "execute_result"
    }
   ],
   "source": [
    "%%time\n",
    "check_block(\"https://www.w888.club\")"
   ]
  },
  {
   "cell_type": "code",
   "execution_count": null,
   "id": "fed0da8d-d6ad-4a91-8c2e-4d8ac4253bac",
   "metadata": {},
   "outputs": [],
   "source": []
  },
  {
   "cell_type": "code",
   "execution_count": null,
   "id": "ef5b5ead-7161-47de-95af-a6ec8e585e18",
   "metadata": {},
   "outputs": [],
   "source": []
  }
 ],
 "metadata": {
  "kernelspec": {
   "display_name": "Python 3 (ipykernel)",
   "language": "python",
   "name": "python3"
  },
  "language_info": {
   "codemirror_mode": {
    "name": "ipython",
    "version": 3
   },
   "file_extension": ".py",
   "mimetype": "text/x-python",
   "name": "python",
   "nbconvert_exporter": "python",
   "pygments_lexer": "ipython3",
   "version": "3.8.10"
  }
 },
 "nbformat": 4,
 "nbformat_minor": 5
}
