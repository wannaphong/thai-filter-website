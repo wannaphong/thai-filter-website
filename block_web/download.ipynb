{
 "cells": [
  {
   "cell_type": "code",
   "execution_count": 2,
   "id": "b407d421-587b-4578-b7a1-923472571061",
   "metadata": {},
   "outputs": [
    {
     "name": "stdout",
     "output_type": "stream",
     "text": [
      "--2023-11-22 01:42:58--  https://github.com/ttc-cert/TTC-CERT_blocklist_recommended/raw/master/domain_blocklist_recommended.txt\n",
      "Resolving github.com (github.com)... 20.205.243.166\n",
      "Connecting to github.com (github.com)|20.205.243.166|:443... connected.\n",
      "HTTP request sent, awaiting response... 302 Found\n",
      "Location: https://raw.githubusercontent.com/ttc-cert/TTC-CERT_blocklist_recommended/master/domain_blocklist_recommended.txt [following]\n",
      "--2023-11-22 01:42:58--  https://raw.githubusercontent.com/ttc-cert/TTC-CERT_blocklist_recommended/master/domain_blocklist_recommended.txt\n",
      "Resolving raw.githubusercontent.com (raw.githubusercontent.com)... 185.199.108.133, 185.199.109.133, 185.199.110.133, ...\n",
      "Connecting to raw.githubusercontent.com (raw.githubusercontent.com)|185.199.108.133|:443... connected.\n",
      "HTTP request sent, awaiting response... 200 OK\n",
      "Length: 859578 (839K) [text/plain]\n",
      "Saving to: ‘domain_blocklist_recommended.txt’\n",
      "\n",
      "domain_blocklist_re 100%[===================>] 839.43K  4.65MB/s    in 0.2s    \n",
      "\n",
      "2023-11-22 01:42:58 (4.65 MB/s) - ‘domain_blocklist_recommended.txt’ saved [859578/859578]\n",
      "\n"
     ]
    }
   ],
   "source": [
    "!wget https://github.com/ttc-cert/TTC-CERT_blocklist_recommended/raw/master/domain_blocklist_recommended.txt -O domain_blocklist_recommended.txt"
   ]
  },
  {
   "cell_type": "code",
   "execution_count": 3,
   "id": "cd6485c6-759b-4eee-b6bd-07e14ef9821c",
   "metadata": {},
   "outputs": [
    {
     "name": "stdout",
     "output_type": "stream",
     "text": [
      "--2023-11-22 02:00:38--  https://github.com/PhyschicWinter9/thai-adblock-list/raw/main/domain.txt\n",
      "Resolving github.com (github.com)... 20.205.243.166\n",
      "Connecting to github.com (github.com)|20.205.243.166|:443... connected.\n",
      "HTTP request sent, awaiting response... 302 Found\n",
      "Location: https://raw.githubusercontent.com/PhyschicWinter9/thai-adblock-list/main/domain.txt [following]\n",
      "--2023-11-22 02:00:39--  https://raw.githubusercontent.com/PhyschicWinter9/thai-adblock-list/main/domain.txt\n",
      "Resolving raw.githubusercontent.com (raw.githubusercontent.com)... 185.199.109.133, 185.199.110.133, 185.199.111.133, ...\n",
      "Connecting to raw.githubusercontent.com (raw.githubusercontent.com)|185.199.109.133|:443... connected.\n",
      "HTTP request sent, awaiting response... 200 OK\n",
      "Length: 1541 (1.5K) [text/plain]\n",
      "Saving to: ‘PhyschicWinter9.txt’\n",
      "\n",
      "PhyschicWinter9.txt 100%[===================>]   1.50K  --.-KB/s    in 0s      \n",
      "\n",
      "2023-11-22 02:00:39 (22.4 MB/s) - ‘PhyschicWinter9.txt’ saved [1541/1541]\n",
      "\n"
     ]
    }
   ],
   "source": [
    "!wget https://github.com/PhyschicWinter9/thai-adblock-list/raw/main/domain.txt -O PhyschicWinter9.txt"
   ]
  },
  {
   "cell_type": "code",
   "execution_count": 4,
   "id": "d30c873c-aee6-4e92-aa47-45f2004f5fab",
   "metadata": {},
   "outputs": [
    {
     "name": "stdout",
     "output_type": "stream",
     "text": [
      "--2023-11-22 06:48:20--  https://get.domainsblacklists.com/blacklist.txt\n",
      "Resolving get.domainsblacklists.com (get.domainsblacklists.com)... 104.21.7.130, 172.67.155.123, 2606:4700:3037::ac43:9b7b, ...\n",
      "Connecting to get.domainsblacklists.com (get.domainsblacklists.com)|104.21.7.130|:443... connected.\n",
      "HTTP request sent, awaiting response... 200 OK\n",
      "Length: 85510189 (82M) [text/plain]\n",
      "Saving to: ‘domainsblacklists_blacklist.txt’\n",
      "\n",
      "domainsblacklists_b 100%[===================>]  81.55M  39.2MB/s    in 2.1s    \n",
      "\n",
      "2023-11-22 06:48:22 (39.2 MB/s) - ‘domainsblacklists_blacklist.txt’ saved [85510189/85510189]\n",
      "\n"
     ]
    }
   ],
   "source": [
    "!wget https://get.domainsblacklists.com/blacklist.txt -O domainsblacklists_blacklist.txt"
   ]
  },
  {
   "cell_type": "code",
   "execution_count": 5,
   "id": "ae0b9301-c1a7-41d9-b99d-1225de52303e",
   "metadata": {},
   "outputs": [
    {
     "name": "stdout",
     "output_type": "stream",
     "text": [
      "--2023-11-22 06:51:25--  https://github.com/easylist-thailand/easylist-thailand/raw/master/categories/malicious.txt\n",
      "Resolving github.com (github.com)... 20.205.243.166\n",
      "Connecting to github.com (github.com)|20.205.243.166|:443... connected.\n",
      "HTTP request sent, awaiting response... 302 Found\n",
      "Location: https://raw.githubusercontent.com/easylist-thailand/easylist-thailand/master/categories/malicious.txt [following]\n",
      "--2023-11-22 06:51:25--  https://raw.githubusercontent.com/easylist-thailand/easylist-thailand/master/categories/malicious.txt\n",
      "Resolving raw.githubusercontent.com (raw.githubusercontent.com)... 185.199.109.133, 185.199.108.133, 185.199.111.133, ...\n",
      "Connecting to raw.githubusercontent.com (raw.githubusercontent.com)|185.199.109.133|:443... connected.\n",
      "HTTP request sent, awaiting response... 200 OK\n",
      "Length: 8914 (8.7K) [text/plain]\n",
      "Saving to: ‘easylist_thai-malicious.txt’\n",
      "\n",
      "easylist_thai-malic 100%[===================>]   8.71K  --.-KB/s    in 0s      \n",
      "\n",
      "2023-11-22 06:51:26 (57.0 MB/s) - ‘easylist_thai-malicious.txt’ saved [8914/8914]\n",
      "\n"
     ]
    }
   ],
   "source": [
    "!wget https://github.com/easylist-thailand/easylist-thailand/raw/master/categories/malicious.txt -O easylist_thai-malicious.txt"
   ]
  },
  {
   "cell_type": "code",
   "execution_count": 6,
   "id": "5bd74ff7-ff5c-490a-a601-de14dc4ed4fd",
   "metadata": {},
   "outputs": [
    {
     "name": "stdout",
     "output_type": "stream",
     "text": [
      "--2023-11-22 06:55:58--  https://github.com/Bon-Appetit/porn-domains/raw/master/block.txt\n",
      "Resolving github.com (github.com)... 20.205.243.166\n",
      "Connecting to github.com (github.com)|20.205.243.166|:443... connected.\n",
      "HTTP request sent, awaiting response... 302 Found\n",
      "Location: https://raw.githubusercontent.com/Bon-Appetit/porn-domains/master/block.txt [following]\n",
      "--2023-11-22 06:55:58--  https://raw.githubusercontent.com/Bon-Appetit/porn-domains/master/block.txt\n",
      "Resolving raw.githubusercontent.com (raw.githubusercontent.com)... 185.199.111.133, 185.199.110.133, 185.199.109.133, ...\n",
      "Connecting to raw.githubusercontent.com (raw.githubusercontent.com)|185.199.111.133|:443... connected.\n",
      "HTTP request sent, awaiting response... 200 OK\n",
      "Length: 55906702 (53M) [text/plain]\n",
      "Saving to: ‘porn-domains_block.txt’\n",
      "\n",
      "porn-domains_block. 100%[===================>]  53.32M  32.1MB/s    in 1.7s    \n",
      "\n",
      "2023-11-22 06:56:04 (32.1 MB/s) - ‘porn-domains_block.txt’ saved [55906702/55906702]\n",
      "\n"
     ]
    }
   ],
   "source": [
    "!wget https://github.com/Bon-Appetit/porn-domains/raw/master/block.txt -O porn-domains_block.txt"
   ]
  },
  {
   "cell_type": "code",
   "execution_count": 7,
   "id": "f34ffb7c-8079-4f3e-80d0-241030711264",
   "metadata": {},
   "outputs": [
    {
     "name": "stdout",
     "output_type": "stream",
     "text": [
      "--2023-11-22 07:14:01--  https://github.com/olbat/ut1-blacklists/raw/master/blacklists/gambling/domains\n",
      "Resolving github.com (github.com)... 20.205.243.166\n",
      "Connecting to github.com (github.com)|20.205.243.166|:443... connected.\n",
      "HTTP request sent, awaiting response... 302 Found\n",
      "Location: https://raw.githubusercontent.com/olbat/ut1-blacklists/master/blacklists/gambling/domains [following]\n",
      "--2023-11-22 07:14:01--  https://raw.githubusercontent.com/olbat/ut1-blacklists/master/blacklists/gambling/domains\n",
      "Resolving raw.githubusercontent.com (raw.githubusercontent.com)... 185.199.109.133, 185.199.108.133, 185.199.111.133, ...\n",
      "Connecting to raw.githubusercontent.com (raw.githubusercontent.com)|185.199.109.133|:443... connected.\n",
      "HTTP request sent, awaiting response... 200 OK\n",
      "Length: 24290 (24K) [text/plain]\n",
      "Saving to: ‘ut1-blacklists_gambling.txt’\n",
      "\n",
      "ut1-blacklists_gamb 100%[===================>]  23.72K  --.-KB/s    in 0.001s  \n",
      "\n",
      "2023-11-22 07:14:02 (23.1 MB/s) - ‘ut1-blacklists_gambling.txt’ saved [24290/24290]\n",
      "\n"
     ]
    }
   ],
   "source": [
    "!wget https://github.com/olbat/ut1-blacklists/raw/master/blacklists/gambling/domains -O ut1-blacklists_gambling.txt"
   ]
  },
  {
   "cell_type": "code",
   "execution_count": null,
   "id": "73010926-0b6b-48a1-9322-5462c3569738",
   "metadata": {},
   "outputs": [],
   "source": []
  }
 ],
 "metadata": {
  "kernelspec": {
   "display_name": "Python 3 (ipykernel)",
   "language": "python",
   "name": "python3"
  },
  "language_info": {
   "codemirror_mode": {
    "name": "ipython",
    "version": 3
   },
   "file_extension": ".py",
   "mimetype": "text/x-python",
   "name": "python",
   "nbconvert_exporter": "python",
   "pygments_lexer": "ipython3",
   "version": "3.8.10"
  }
 },
 "nbformat": 4,
 "nbformat_minor": 5
}
