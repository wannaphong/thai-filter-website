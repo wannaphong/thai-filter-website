{
 "cells": [
  {
   "cell_type": "code",
   "execution_count": 2,
   "id": "826c1477-d0e2-4734-8b7b-2f1e4718346f",
   "metadata": {},
   "outputs": [],
   "source": [
    "from block_text import check"
   ]
  },
  {
   "cell_type": "code",
   "execution_count": 2,
   "id": "38ee93dd-125c-4e05-acc0-4729efa63a35",
   "metadata": {},
   "outputs": [
    {
     "data": {
      "text/plain": [
       "{'sequence': 'เว็บพนันกีฬา แทงบอลออนไลน์ และคาสิโน อันดับ 1 ตัวจริง เปิดรับเดิมพันในประเทศไทยแล้ว อย่างเป็นทางการ ยินดีต้อนรับสมาชิกทุกท่าน บริการด้วยใจ 24 ชม มีอัตราผล. Live22 แอพคาสิโนที่ภาพสวยที่สุด พร้อมให้บริการเกมส์คาสิโน ufabet.',\n",
       " 'labels': ['เว็บพนัน', 'เว็บอื่น ๆ', 'เว็บโป๊'],\n",
       " 'scores': [0.9134495258331299, 0.08356741070747375, 0.0029830485582351685]}"
      ]
     },
     "execution_count": 2,
     "metadata": {},
     "output_type": "execute_result"
    }
   ],
   "source": [
    "check(\"เว็บพนันกีฬา แทงบอลออนไลน์ และคาสิโน อันดับ 1 ตัวจริง เปิดรับเดิมพันในประเทศไทยแล้ว อย่างเป็นทางการ ยินดีต้อนรับสมาชิกทุกท่าน บริการด้วยใจ 24 ชม มีอัตราผล. Live22 แอพคาสิโนที่ภาพสวยที่สุด พร้อมให้บริการเกมส์คาสิโน ufabet.\")"
   ]
  },
  {
   "cell_type": "code",
   "execution_count": 3,
   "id": "5feac659-eaaf-4ac2-b6f9-b1baa7c1557f",
   "metadata": {},
   "outputs": [
    {
     "data": {
      "text/plain": [
       "{'sequence': 'ufa350คาสิโน, อร่อยจนติดใจพวกเชลยได้รับความทรมานราวกับตกอยู่ในขุมของแดนนรกบาคาร่าจำได้ป่าวเนี่ยนี่ใคร',\n",
       " 'labels': ['เว็บพนัน', 'เว็บอื่น ๆ', 'เว็บโป๊'],\n",
       " 'scores': [0.8312637805938721, 0.12118937075138092, 0.047546837478876114]}"
      ]
     },
     "execution_count": 3,
     "metadata": {},
     "output_type": "execute_result"
    }
   ],
   "source": [
    "check(\"ufa350คาสิโน, อร่อยจนติดใจพวกเชลยได้รับความทรมานราวกับตกอยู่ในขุมของแดนนรกบาคาร่าจำได้ป่าวเนี่ยนี่ใคร\")"
   ]
  },
  {
   "cell_type": "code",
   "execution_count": 4,
   "id": "03eb730a-0a82-4151-b60c-718d4fa9bcc0",
   "metadata": {},
   "outputs": [
    {
     "data": {
      "text/plain": [
       "{'sequence': 'เชื่อไหมว่าทุก ๆ เวลาขณะที่พวกเราได้ทำการเล่นเกมเดิมพันนั้น ล้วนมีอารมณ์ที่หลากหลายเกิดขึ้นนอกเหนือจากความสนุก เช่น ความจริงจัง หรือ ความเครียด ทำให้เกิดถึงความวิตกกังวล ซึ่งแน่นอนว่าเหตุการณ์เหล่านี้มักจะมาพร้อม ๆ กันในตอนที่เราได้เล่นเกมเดิมพันอยู่เสมอ',\n",
       " 'labels': ['เว็บพนัน', 'เว็บโป๊', 'เว็บอื่น ๆ'],\n",
       " 'scores': [0.5946270823478699, 0.23218335211277008, 0.17318953573703766]}"
      ]
     },
     "execution_count": 4,
     "metadata": {},
     "output_type": "execute_result"
    }
   ],
   "source": [
    "check(\"เชื่อไหมว่าทุก ๆ เวลาขณะที่พวกเราได้ทำการเล่นเกมเดิมพันนั้น ล้วนมีอารมณ์ที่หลากหลายเกิดขึ้นนอกเหนือจากความสนุก เช่น ความจริงจัง หรือ ความเครียด ทำให้เกิดถึงความวิตกกังวล ซึ่งแน่นอนว่าเหตุการณ์เหล่านี้มักจะมาพร้อม ๆ กันในตอนที่เราได้เล่นเกมเดิมพันอยู่เสมอ\")"
   ]
  },
  {
   "cell_type": "code",
   "execution_count": 5,
   "id": "5c418039-9b45-4d31-9335-1fa6c49253ab",
   "metadata": {},
   "outputs": [
    {
     "data": {
      "text/plain": [
       "{'sequence': 'Microsoft ประกาศข่าวใหญ่สำหรับนักพัฒนา .NET ที่ใช้ Mac ว่าจะเลิกพัฒนา Visual Studio for Mac แล้ว',\n",
       " 'labels': ['เว็บอื่น ๆ', 'เว็บพนัน', 'เว็บโป๊'],\n",
       " 'scores': [0.9192256331443787, 0.05084894597530365, 0.029925435781478882]}"
      ]
     },
     "execution_count": 5,
     "metadata": {},
     "output_type": "execute_result"
    }
   ],
   "source": [
    "check(\"Microsoft ประกาศข่าวใหญ่สำหรับนักพัฒนา .NET ที่ใช้ Mac ว่าจะเลิกพัฒนา Visual Studio for Mac แล้ว\")"
   ]
  },
  {
   "cell_type": "code",
   "execution_count": 3,
   "id": "2c1e9d71-e9cb-4418-ac4e-39d7863df5c7",
   "metadata": {},
   "outputs": [
    {
     "data": {
      "text/plain": [
       "['เว็บโป๊', 'เว็บอื่น ๆ', 'เว็บพนัน']"
      ]
     },
     "execution_count": 3,
     "metadata": {},
     "output_type": "execute_result"
    }
   ],
   "source": [
    "check(\"ขายตัว แตกใน คลิปหลุด\")[\"labels\"]"
   ]
  },
  {
   "cell_type": "code",
   "execution_count": 13,
   "id": "79ad1e7a-7554-4349-a980-96db2a323880",
   "metadata": {},
   "outputs": [
    {
     "data": {
      "text/plain": [
       "{'sequence': 'มท.เตรียมออกคำสั่งห้ามออกใบอนุญาตพกอาวุธปืนติดตัวแบบ ป.12 เป็นเวลา 1 ปี หวังลดปัญหาใช้ปืนก่ออาชญากรรม',\n",
       " 'labels': ['เว็บอื่น ๆ', 'เว็บพนัน', 'เว็บโป๊'],\n",
       " 'scores': [0.9261263012886047, 0.03881300985813141, 0.03506070375442505]}"
      ]
     },
     "execution_count": 13,
     "metadata": {},
     "output_type": "execute_result"
    }
   ],
   "source": [
    "check(\"มท.เตรียมออกคำสั่งห้ามออกใบอนุญาตพกอาวุธปืนติดตัวแบบ ป.12 เป็นเวลา 1 ปี หวังลดปัญหาใช้ปืนก่ออาชญากรรม\")"
   ]
  },
  {
   "cell_type": "code",
   "execution_count": 14,
   "id": "50fb7f69-1ee1-4e64-9122-921aa3d1d9e3",
   "metadata": {},
   "outputs": [
    {
     "data": {
      "text/plain": [
       "{'sequence': 'แจกผลกำไรกันแบบไม่มียั้งอย่างยิ่งจริงๆ ถ้าหากคุณเข้ามาเป็นสมาชิกกับเว็บ สล็อต777 แตกง่าย',\n",
       " 'labels': ['เว็บพนัน', 'เว็บโป๊', 'เว็บอื่น ๆ'],\n",
       " 'scores': [0.6903142929077148, 0.2930452525615692, 0.01664046011865139]}"
      ]
     },
     "execution_count": 14,
     "metadata": {},
     "output_type": "execute_result"
    }
   ],
   "source": [
    "check(\"แจกผลกำไรกันแบบไม่มียั้งอย่างยิ่งจริงๆ ถ้าหากคุณเข้ามาเป็นสมาชิกกับเว็บ สล็อต777 แตกง่าย\")"
   ]
  },
  {
   "cell_type": "code",
   "execution_count": 16,
   "id": "893d9ed3-4099-4e54-9f81-2e63342b0088",
   "metadata": {},
   "outputs": [
    {
     "data": {
      "text/plain": [
       "{'sequence': 'งานนี้ถึงมาแค่สองแต่มันส์ไม่แพ้มาทั้งครอบครัว #FastAndFurious #HobbsAndShaw งานนี้ถึงมาแค่สองแต่มันส์ไม่แพ้มาทั้งครอบครัว #FastAndFurious #HobbsAndShaw \"เร็ว...แรงทะลุนรก ฮ็อบส์ & ชอว์\" โดยผู้กำกับ \"เดวิด ลิตช์\" จาก John Wick และ Deadpool 2 เข้าฉายพุธที่ 31 กรกฎาคมนี้ที่ เมเจอร์ ซีนีเพล็กซ์ ซื้อเลย > http://bit.ly/Hobbs-Shaw-Showtimes การเดินทาง...ที่ทำให้เขาต้องพานพบ...พบรัก My killer HOBBS & SHAW giant set. Push past pain int... My strong relationship with China is anchored by the...',\n",
       " 'labels': ['เว็บอื่น ๆ', 'เว็บพนัน', 'เว็บโป๊'],\n",
       " 'scores': [0.833916187286377, 0.08864684402942657, 0.07743692398071289]}"
      ]
     },
     "execution_count": 16,
     "metadata": {},
     "output_type": "execute_result"
    }
   ],
   "source": [
    "check('งานนี้ถึงมาแค่สองแต่มันส์ไม่แพ้มาทั้งครอบครัว #FastAndFurious #HobbsAndShaw งานนี้ถึงมาแค่สองแต่มันส์ไม่แพ้มาทั้งครอบครัว #FastAndFurious #HobbsAndShaw \"เร็ว...แรงทะลุนรก ฮ็อบส์ & ชอว์\" โดยผู้กำกับ \"เดวิด ลิตช์\" จาก John Wick และ Deadpool 2 เข้าฉายพุธที่ 31 กรกฎาคมนี้ที่ เมเจอร์ ซีนีเพล็กซ์ ซื้อเลย > http://bit.ly/Hobbs-Shaw-Showtimes การเดินทาง...ที่ทำให้เขาต้องพานพบ...พบรัก My killer HOBBS & SHAW giant set. Push past pain int... My strong relationship with China is anchored by the...')"
   ]
  },
  {
   "cell_type": "code",
   "execution_count": 17,
   "id": "3966b804-783e-489c-b3bc-4f8bea189ece",
   "metadata": {},
   "outputs": [
    {
     "data": {
      "text/plain": [
       "{'sequence': 'หวยมาเล ออกกี่โมง - แทงหวยออนไลน์จ่ายจริง กุมภาพันธ์ 5, 2022 999lucky547 ไม่มีหมวดหมู่ 0 แหล่งตรวจหวยของนักแทงหวยออนไลน์หลายๆ ท่านก็คงจะหนีไม่พ้นการค้นหาในเว็บ Google แต่ในบางครั้งทางเว็บ Google',\n",
       " 'labels': ['เว็บพนัน', 'เว็บอื่น ๆ', 'เว็บโป๊'],\n",
       " 'scores': [0.5651630759239197, 0.40593966841697693, 0.0288972407579422]}"
      ]
     },
     "execution_count": 17,
     "metadata": {},
     "output_type": "execute_result"
    }
   ],
   "source": [
    "check('หวยมาเล ออกกี่โมง - แทงหวยออนไลน์จ่ายจริง กุมภาพันธ์ 5, 2022 999lucky547 ไม่มีหมวดหมู่ 0 แหล่งตรวจหวยของนักแทงหวยออนไลน์หลายๆ ท่านก็คงจะหนีไม่พ้นการค้นหาในเว็บ Google แต่ในบางครั้งทางเว็บ Google')"
   ]
  },
  {
   "cell_type": "code",
   "execution_count": 18,
   "id": "05adb3fb-47a4-493b-86f8-4f35d0f07564",
   "metadata": {},
   "outputs": [
    {
     "data": {
      "text/plain": [
       "{'sequence': 'สูตร รู้ เล็ ต ออนไลน์-เว็บมีชื่อเสียง|TheM98.COM✅ วิเคราะห์บอล ยูเว่การพนันผล คะแนน ฟุตบอล พรีเมียร์ ลีกรับเงินบาทดู ผล บอล สด สเปนการพนันฟุตบอล ส ก็ อ ต แลนด์ ดิวิชั่น 12021 เล่นฟรีสล็อตออนไลน์ไม่มีขั้นต่ําเติมเงินไทยฟรี 【 Wenzhao Wang Fu Fu Boc 】ผลบอลสด มีเสียง 8882021 เล่นฟรี 【 ฉลาม 】บอลสดวันนี้ ญี่ปุ่นทดลองใช้ฟรี 【 สาวยี่สิบหน้า ',\n",
       " 'labels': ['เว็บพนัน', 'เว็บอื่น ๆ', 'เว็บโป๊'],\n",
       " 'scores': [0.8586625456809998, 0.11842166632413864, 0.022915737703442574]}"
      ]
     },
     "execution_count": 18,
     "metadata": {},
     "output_type": "execute_result"
    }
   ],
   "source": [
    "check('สูตร รู้ เล็ ต ออนไลน์-เว็บมีชื่อเสียง|TheM98.COM✅ วิเคราะห์บอล ยูเว่การพนันผล คะแนน ฟุตบอล พรีเมียร์ ลีกรับเงินบาทดู ผล บอล สด สเปนการพนันฟุตบอล ส ก็ อ ต แลนด์ ดิวิชั่น 12021 เล่นฟรีสล็อตออนไลน์ไม่มีขั้นต่ําเติมเงินไทยฟรี 【 Wenzhao Wang Fu Fu Boc 】ผลบอลสด มีเสียง 8882021 เล่นฟรี 【 ฉลาม 】บอลสดวันนี้ ญี่ปุ่นทดลองใช้ฟรี 【 สาวยี่สิบหน้า ')"
   ]
  },
  {
   "cell_type": "code",
   "execution_count": null,
   "id": "31c0c051-5d69-42a7-bffa-ae304be23d56",
   "metadata": {},
   "outputs": [],
   "source": []
  }
 ],
 "metadata": {
  "kernelspec": {
   "display_name": "Python 3 (ipykernel)",
   "language": "python",
   "name": "python3"
  },
  "language_info": {
   "codemirror_mode": {
    "name": "ipython",
    "version": 3
   },
   "file_extension": ".py",
   "mimetype": "text/x-python",
   "name": "python",
   "nbconvert_exporter": "python",
   "pygments_lexer": "ipython3",
   "version": "3.8.10"
  }
 },
 "nbformat": 4,
 "nbformat_minor": 5
}
